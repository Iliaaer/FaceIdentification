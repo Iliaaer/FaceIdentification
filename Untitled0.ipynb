{
  "nbformat": 4,
  "nbformat_minor": 0,
  "metadata": {
    "colab": {
      "provenance": [],
      "authorship_tag": "ABX9TyND4gdbn2MJNiWiWKf8VQX/",
      "include_colab_link": true
    },
    "kernelspec": {
      "name": "python3",
      "display_name": "Python 3"
    },
    "language_info": {
      "name": "python"
    }
  },
  "cells": [
    {
      "cell_type": "markdown",
      "metadata": {
        "id": "view-in-github",
        "colab_type": "text"
      },
      "source": [
        "<a href=\"https://colab.research.google.com/github/Iliaaer/FaceIdentification/blob/main/Untitled0.ipynb\" target=\"_parent\"><img src=\"https://colab.research.google.com/assets/colab-badge.svg\" alt=\"Open In Colab\"/></a>"
      ]
    },
    {
      "cell_type": "code",
      "execution_count": null,
      "metadata": {
        "id": "zG_Ml-Bv-y4Z"
      },
      "outputs": [],
      "source": [
        "import matplotlib.pyplot as plt\n",
        "import numpy as np\n",
        "from sympy import symbols, Eq, solve\n",
        "\n",
        "U = [1, 2, 3, 4, 5, 6, 7]\n",
        "I = [2, 4, 8, 6, 3, 5, 7]\n",
        "# U = [-2, 0, 2, 4, 6, 8]\n",
        "# I = [-2, -1, 3, 5, 2, 6]\n",
        "\n",
        "text_lines = \"\"\n",
        "\n",
        "up_num = ['⁰', '¹', '²', '³', '⁴', '⁵', '⁶', '⁷', '⁸', '⁹']\n",
        "lower_up = ['₀', '₁', '₂', '₃', '₄', '₅', '₆', '₇', '₈', '₉']\n",
        "\n",
        "# I(U) = a0 + a1U\n",
        "# sum(i=0 do 6) ∆ = min\n",
        "# ∆² = [I - (a0 + А1)]²"
      ]
    },
    {
      "cell_type": "code",
      "source": [
        "dict_ = {\n",
        "    0: \"\\u2070\",\n",
        "    1: \"\\u00B9\",\n",
        "    2: \"\\u00B2\",\n",
        "    3: \"\\u00B3\",\n",
        "    4: \"\\u2074\",\n",
        "    5: \"\\u2075\",\n",
        "    6: \"\\u2076\",\n",
        "    7: \"\\u2077\",\n",
        "    8: \"\\u2078\",\n",
        "    9: \"\\u2079\"\n",
        "}\n",
        "print (dict_[0])\n",
        "lower_up = ['0', '1', '2', '3', '4', '5', '6', '7', '8', '9']"
      ],
      "metadata": {
        "id": "YanPXhU9OR5i"
      },
      "execution_count": null,
      "outputs": []
    },
    {
      "cell_type": "code",
      "source": [
        "data = [U, I]\n",
        "separator_u = [len(str(k)) for k in U]\n",
        "separator_i = [len(str(k)) for k in I]\n",
        "separator_max = max(separator_u, separator_i)\n",
        "separator = \"---+-\" + \"-+-\".join('-' * 2 for n in separator_max)\n",
        "cell_sep=' | '\n",
        "result_u = [' U']\n",
        "result_i = [' I']\n",
        "for col in range(len(U)):\n",
        "    item = str(U[col]).ljust(2)\n",
        "    result_u.append(item)\n",
        "\n",
        "for col in range(len(I)):\n",
        "    item = str(I[col]).ljust(2)\n",
        "    result_i.append(item)\n",
        "\n",
        "lines_u = cell_sep.join(result_u)\n",
        "lines_i = cell_sep.join(result_i)\n",
        "\n",
        "\n",
        "print(separator)\n",
        "print(lines_u)\n",
        "print(separator)\n",
        "print(lines_i)\n",
        "print(separator)\n",
        "\n",
        "text_lines += separator + \"\\n\"\n",
        "text_lines += lines_u + \"\\n\"\n",
        "text_lines += separator + \"\\n\"\n",
        "text_lines += lines_i + \"\\n\"\n",
        "text_lines += separator + \"\\n\"\n",
        "\n",
        "text_lines += \"\\n\\n\"\n",
        "\n",
        "# print(data)"
      ],
      "metadata": {
        "id": "x_vpn_Mg-6S-"
      },
      "execution_count": null,
      "outputs": []
    },
    {
      "cell_type": "code",
      "source": [
        "def mask_l2(I, U, array):\n",
        "    array[0] += I*I\n",
        "    array[1] += -2*I\n",
        "    array[2] += -2*I*U\n",
        "    array[3] += 1\n",
        "    array[4] += 2*U\n",
        "    array[5] += U*U\n",
        "    return [I*I, -2*I, -2*I*U, 1, 2*U, U*U]\n",
        "    # return f\"{I*I} + {-2*I}a0 + {-2*I*U}a1 + {1}a0^2 + {2*U}a0a1 + {U*U}a1^2\"\n",
        "def text_makk_l(array):\n",
        "    return f\"{array[0]} + {array[1]}*a{lower_up[0]} + {array[2]}*a{lower_up[1]} + {array[3]}*a{lower_up[0]}{up_num[2]} + {array[4]}*a{lower_up[0]}*a{lower_up[1]} + {array[5]}*a{lower_up[1]}{up_num[2]}\"\n",
        "\n",
        "sum_l = [0, 0, 0, 0, 0, 0]\n",
        "\n",
        "for i, [i_u, i_i] in enumerate(zip(U, I)):\n",
        "    a = mask_l2(i_i, i_u, sum_l)\n",
        "    print(f\"∆{lower_up[i]} = {text_makk_l(a)}\")\n",
        "    text_lines += f\"∆{lower_up[i]} = {text_makk_l(a)}\" + \"\\n\"\n",
        "\n",
        "print(\"\\n\")\n",
        "print(sum_l)\n",
        "print(f\"∑ = {text_makk_l(sum_l)}\")\n",
        "text_lines += \"\\n\"\n",
        "text_lines += f\"∑ = {text_makk_l(sum_l)}\" + \"\\n\"\n",
        "\n",
        "derivative_a0 = [sum_l[1], sum_l[3]*2, sum_l[4]]\n",
        "print(f\"Производная по [a{lower_up[0]}] = {derivative_a0[0]} + {derivative_a0[1]}*a{lower_up[0]} + {derivative_a0[2]}*a{lower_up[1]} = 0\")\n",
        "text_lines += f\"Производная по [a{lower_up[0]}] = {derivative_a0[0]} + {derivative_a0[1]}*a{lower_up[0]} + {derivative_a0[2]}*a{lower_up[1]} = 0\" + \"\\n\"\n",
        "\n",
        "derivative_a1 = [sum_l[2], sum_l[4], sum_l[5]*2]\n",
        "print(f\"Производная по [a{lower_up[1]}] = {derivative_a1[0]} + {derivative_a1[1]}*a{lower_up[0]} + {derivative_a1[2]}*a{lower_up[1]} = 0\")\n",
        "text_lines += f\"Производная по [a{lower_up[1]}] = {derivative_a1[0]} + {derivative_a1[1]}*a{lower_up[0]} + {derivative_a1[2]}*a{lower_up[1]} = 0\" + \"\\n\"\n",
        "\n",
        "k1, k2, k3 = derivative_a0\n",
        "k4, k5, k6 = derivative_a1\n"
      ],
      "metadata": {
        "id": "suM5Gyfz_Bo8"
      },
      "execution_count": null,
      "outputs": []
    },
    {
      "cell_type": "code",
      "source": [
        "# Определение переменных\n",
        "a0, a1 = symbols(f'a0 a1')\n",
        "\n",
        "# Определение системы уравнений\n",
        "equations = [\n",
        "    Eq(k1 + k2*a0 + k3*a1, 0),\n",
        "    Eq(k4 + k5*a0 + k6*a1, 0),\n",
        "]\n",
        "\n",
        "# Решение системы символьно\n",
        "symbolic_solution = solve(equations, (a0, a1))\n",
        "\n",
        "# Вывод решения\n",
        "print(f\"Символьное решение: a{lower_up[0]}={symbolic_solution.get(a0)}, a{lower_up[1]}={symbolic_solution.get(a1)}\")\n",
        "text_lines += f\"Символьное решение: a{lower_up[0]}={symbolic_solution.get(a0)}, a{lower_up[1]}={symbolic_solution.get(a1)}\" + \"\\n\"\n",
        "\n",
        "print(f\"I = a{lower_up[0]} + a{lower_up[1]}*U = {symbolic_solution.get(a0)} + {symbolic_solution.get(a1)} * U\")\n",
        "text_lines += f\"I = a{lower_up[0]} + a{lower_up[1]}*U = {symbolic_solution.get(a0)} + {symbolic_solution.get(a1)} * U\" + \"\\n\"\n",
        "\n",
        "print(f\"tg α{lower_up[0]} = a{lower_up[1]} = {symbolic_solution.get(a1)}\")\n",
        "print(f\"α{lower_up[0]} = arctg {symbolic_solution.get(a1)}\")\n",
        "text_lines += f\"tg α{lower_up[0]} = a{lower_up[1]} = {symbolic_solution.get(a1)}\" + \"\\n\"\n",
        "text_lines += f\"α{lower_up[0]} = arctg {symbolic_solution.get(a1)}\" + \"\\n\"\n",
        "\n",
        "print(f\"α{lower_up[0]} = arctg {symbolic_solution.get(a1)} = {np.arctan(float(symbolic_solution.get(a1))) * 180 / np.pi} градусов\")\n",
        "\n"
      ],
      "metadata": {
        "id": "pAXk3L2O_C7d"
      },
      "execution_count": null,
      "outputs": []
    },
    {
      "cell_type": "code",
      "source": [
        "plt.xlabel('Ось U') #Подпись для оси u\n",
        "plt.ylabel('Ось I') #Подпись для оси i\n",
        "plt.grid(True, which='both')\n",
        "# plt.ylim(min(I)-1, max(I)+1)\n",
        "# plt.xlim(min(U)-1, max(U)+1)\n",
        "\n",
        "plt.xticks(np.arange(min(U)-2,  max(U)+2, 1.0))  # изменяем шаг делений на оси X\n",
        "plt.yticks(np.arange(min(I)-2,  max(I)+2, 1.0))  # изменяем шаг делений на оси Y\n",
        "\n",
        "\n",
        "plt.plot([0, 0], [min(I)-1, max(I)+1], color='black')\n",
        "plt.plot([min(U)-1, max(U)+1], [0, 0], color='black')\n",
        "plt.plot(U, I, color='green', marker='X', markersize=10)\n",
        "\n",
        "fanc = lambda x: float(symbolic_solution.get(a0)) + x * float(symbolic_solution.get(a1))\n",
        "x = np.linspace(min(U)-1, max(U)+1, 10000)\n",
        "y = fanc(x)\n",
        "plt.plot(x, y, color='blue')\n",
        "\n",
        "plt.savefig('1.png', dpi=300)"
      ],
      "metadata": {
        "id": "BWRd5Dyy_Ikk"
      },
      "execution_count": null,
      "outputs": []
    },
    {
      "cell_type": "code",
      "source": [
        "\n",
        "plt.xlabel('Ось U') #Подпись для оси u\n",
        "plt.ylabel('Ось I') #Подпись для оси i\n",
        "plt.grid(True, which='both')\n",
        "\n",
        "\n",
        "plt.plot([0, 0], [min(I)-1, max(I)+1], color='black')\n",
        "plt.plot([min(U)-1, max(U)+1], [0, 0], color='black')\n",
        "plt.plot(U, I, color='green', marker='X', markersize=10)\n",
        "\n",
        "plt.plot(x, y, color='blue')\n",
        "\n",
        "plt.savefig('1.png', dpi=300)\n",
        "\n",
        "point_x, point_y = [], []\n",
        "for i_u, i_i in zip(U, I):\n",
        "    len_point = abs(i_i - fanc(i_u))\n",
        "    point_x = [\n",
        "        i_u,\n",
        "        i_u - len_point,\n",
        "        i_u - len_point,\n",
        "        i_u,\n",
        "        i_u,\n",
        "        ]\n",
        "    point_y = [\n",
        "        fanc(i_u),\n",
        "        fanc(i_u),\n",
        "        fanc(i_u) - len_point if fanc(i_u) > i_i else  fanc(i_u) + len_point,\n",
        "        fanc(i_u) - len_point if fanc(i_u) > i_i else  fanc(i_u) + len_point,\n",
        "        fanc(i_u),\n",
        "        ]\n",
        "    print([(x1, y1) for x1, y1 in zip(point_x, point_y)])\n",
        "    # print(len_point)\n",
        "    # print(point_x)\n",
        "    # print(point_y)\n",
        "    plt.plot(point_x, point_y, color='red')\n",
        "\n",
        "plt.savefig('2.png', dpi=300)"
      ],
      "metadata": {
        "id": "_wj905Wr_MlF"
      },
      "execution_count": null,
      "outputs": []
    },
    {
      "cell_type": "code",
      "source": [
        "print(text_lines)"
      ],
      "metadata": {
        "id": "vsOyvBh4KpC6"
      },
      "execution_count": null,
      "outputs": []
    },
    {
      "cell_type": "code",
      "source": [
        "\n",
        "# Pn(x) = ∑ ajxj;\n",
        "# I(n) = a0 + a1x + a2x^2 + ... + anx^n\n",
        "\n",
        "text_lines2 = \"\"\n",
        "def pnx(n, x, y):\n",
        "  return f\"a{lower_up[0]} + \" + ' + '.join([f\"a{lower_up[i]}*({x}){up_num[i]}\" for i in range(1, n)]) + f' = {y}'\n",
        "\n",
        "for id_i in range(len(U)):\n",
        "  text_lines2 += pnx(len(U), U[id_i], I[id_i]) + '\\n'\n",
        "  print(pnx(len(U), U[id_i], I[id_i]))\n",
        "\n",
        "\n",
        "print('\\n\\n')\n",
        "print(text_lines2)"
      ],
      "metadata": {
        "id": "Zn9A4N_F_NvB"
      },
      "execution_count": null,
      "outputs": []
    },
    {
      "cell_type": "code",
      "source": [
        "# # Определение переменных\n",
        "# a0, a1, a2, a3, a4, a5 = symbols(f'a0 a1 a2 a3 a4 a5')\n",
        "\n",
        "# # Определение системы уравнений\n",
        "# equations = [\n",
        "\n",
        "#   Eq(a0 + a1*(-1)**1 + a2*(-1)**2 + a3*(-1)**3 + a4*(-1)**4 + a5*(-1)**5, 2)\n",
        "# a₀ + a₁*(0)¹ + a₂*(0)² + a₃*(0)³ + a₄*(0)⁴ + a₅*(0)⁵ = 4\n",
        "# a₀ + a₁*(1)¹ + a₂*(1)² + a₃*(1)³ + a₄*(1)⁴ + a₅*(1)⁵ = 3\n",
        "# a₀ + a₁*(2)¹ + a₂*(2)² + a₃*(2)³ + a₄*(2)⁴ + a₅*(2)⁵ = 6\n",
        "# a₀ + a₁*(3)¹ + a₂*(3)² + a₃*(3)³ + a₄*(3)⁴ + a₅*(3)⁵ = 7\n",
        "# a₀ + a₁*(4)¹ + a₂*(4)² + a₃*(4)³ + a₄*(4)⁴ + a₅*(4)⁵ = 1\n",
        "\n",
        "#     # Eq(k1 + k2*a0 + k3*a1, 0),\n",
        "#     # Eq(k4 + k5*a0 + k6*a1, 0),\n",
        "# ]\n",
        "\n",
        "# # Решение системы символьно\n",
        "# symbolic_solution = solve(equations, (a0, a1))\n",
        "\n",
        "an = symbols(\" \".join([f'a{lower_up[id_i]}' for id_i in range(len(U))]))\n",
        "print(an)\n",
        "equations = []\n",
        "for id_i in range(len(U)):\n",
        "  temp = Eq(sum( [ an[id_j] * U[id_i]**id_j for id_j in range(len(U)) ] ), I[id_i])\n",
        "  equations.append(temp)\n",
        "print(*equations, sep='\\n')\n",
        "\n",
        "symbolic_solution2 = solve(equations, an)\n",
        "print(symbolic_solution2)\n",
        "#   text_lines2 += pnx(len(U), U[id_i], I[id_i]) + '\\n'\n",
        "#   print(pnx(len(U), U[id_i], I[id_i]))\n"
      ],
      "metadata": {
        "id": "tU91RFgeBCzG"
      },
      "execution_count": null,
      "outputs": []
    },
    {
      "cell_type": "code",
      "source": [
        "plt.xlabel('Ось U') #Подпись для оси u\n",
        "plt.ylabel('Ось I') #Подпись для оси i\n",
        "plt.plot([0, 0], [min(I)-1, max(I)+1], color='black')\n",
        "plt.plot([min(U)-1, max(U)+1], [0, 0], color='black')\n",
        "plt.plot(U, I, color='green', marker='X', markersize=10)\n",
        "\n",
        "# plt.plot(x, y, color='blue')\n",
        "# float(symbolic_solution.get(a0))\n",
        "fanc2 = lambda x: sum(float(symbolic_solution2.get(an[id_i])) * x**id_i for id_i in range(len(U)))\n",
        "x = np.linspace(min(U), max(U), 10000)\n",
        "y = fanc2(x)\n",
        "plt.plot(x, y, color='blue')\n",
        "\n",
        "plt.savefig('3.png', dpi=300)"
      ],
      "metadata": {
        "id": "XPFbSDLcD5Qe"
      },
      "execution_count": null,
      "outputs": []
    }
  ]
}